{
 "cells": [
  {
   "cell_type": "markdown",
   "metadata": {},
   "source": [
    "### What's the difference between the SciPy library and other deep-learning frameworks in Convolution operation?"
   ]
  },
  {
   "cell_type": "code",
   "execution_count": 1,
   "metadata": {},
   "outputs": [],
   "source": [
    "import scipy.signal"
   ]
  },
  {
   "cell_type": "code",
   "execution_count": 2,
   "metadata": {},
   "outputs": [],
   "source": [
    "image = [[1, 2, 3, 4, 5, 6, 7],\n",
    "         [8, 9, 10, 11, 12, 13, 14],\n",
    "         [15, 16, 17, 18, 19, 20, 21],\n",
    "         [22, 23, 24, 25, 26, 27, 28],\n",
    "         [29, 30, 31, 32, 33, 34, 35],\n",
    "         [36, 37, 38, 39, 40, 41, 42],\n",
    "         [43, 44, 45, 46, 47, 48, 49]]\n",
    "\n",
    "filter_kernel = [[-1, 1, -1],\n",
    "                 [-2, 3, 1],\n",
    "                 [2, -6, 0]]"
   ]
  },
  {
   "cell_type": "code",
   "execution_count": 3,
   "metadata": {},
   "outputs": [
    {
     "name": "stdout",
     "output_type": "stream",
     "text": [
      "[[  -2   -8   -7   -6   -5   -4   28]\n",
      " [   3   -7  -10  -13  -16  -19   14]\n",
      " [ -18  -28  -31  -34  -37  -40    0]\n",
      " [ -39  -49  -52  -55  -58  -61  -14]\n",
      " [ -60  -70  -73  -76  -79  -82  -28]\n",
      " [ -81  -91  -94  -97 -100 -103  -42]\n",
      " [-101  -61  -63  -65  -67  -69  -57]]\n"
     ]
    }
   ],
   "source": [
    "res1 = scipy.signal.convolve2d(image, filter_kernel, mode='same', boundary='fill', fillvalue=0)\n",
    "print(res1)"
   ]
  },
  {
   "cell_type": "code",
   "execution_count": 4,
   "metadata": {},
   "outputs": [
    {
     "name": "stdout",
     "output_type": "stream",
     "text": [
      "[[ -43  -31  -33  -35  -37  -39  -49]\n",
      " [ -58  -47  -50  -53  -56  -59  -69]\n",
      " [ -72  -68  -71  -74  -77  -80  -90]\n",
      " [ -86  -89  -92  -95  -98 -101 -111]\n",
      " [-100 -110 -113 -116 -119 -122 -132]\n",
      " [-114 -131 -134 -137 -140 -143 -153]\n",
      " [ 172   54   55   56   57   58   52]]\n"
     ]
    }
   ],
   "source": [
    "# This SciPy's result corresponds with other deep-learning frameworks' calculated value.\n",
    "# Because the SciPy library has stricter calculation methods than other deep-learning frameworks.\n",
    "res2 = scipy.signal.correlate2d(image, filter_kernel, mode=\"same\", boundary=\"fill\", fillvalue=0)\n",
    "print(res2)"
   ]
  }
 ],
 "metadata": {
  "kernelspec": {
   "display_name": "base",
   "language": "python",
   "name": "python3"
  },
  "language_info": {
   "codemirror_mode": {
    "name": "ipython",
    "version": 3
   },
   "file_extension": ".py",
   "mimetype": "text/x-python",
   "name": "python",
   "nbconvert_exporter": "python",
   "pygments_lexer": "ipython3",
   "version": "3.11.7"
  }
 },
 "nbformat": 4,
 "nbformat_minor": 2
}
