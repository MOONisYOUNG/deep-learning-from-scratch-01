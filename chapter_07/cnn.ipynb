{
 "cells": [
  {
   "cell_type": "code",
   "execution_count": 1,
   "metadata": {},
   "outputs": [],
   "source": [
    "import numpy as np\n",
    "from numpy import typing as npt"
   ]
  },
  {
   "cell_type": "markdown",
   "metadata": {},
   "source": [
    "### What's the difference between the SciPy library and other deep-learning frameworks in Convolution operation?"
   ]
  },
  {
   "cell_type": "code",
   "execution_count": 2,
   "metadata": {},
   "outputs": [],
   "source": [
    "import scipy.signal"
   ]
  },
  {
   "cell_type": "code",
   "execution_count": 3,
   "metadata": {},
   "outputs": [],
   "source": [
    "image = [[1, 2, 3, 4, 5, 6, 7],\n",
    "         [8, 9, 10, 11, 12, 13, 14],\n",
    "         [15, 16, 17, 18, 19, 20, 21],\n",
    "         [22, 23, 24, 25, 26, 27, 28],\n",
    "         [29, 30, 31, 32, 33, 34, 35],\n",
    "         [36, 37, 38, 39, 40, 41, 42],\n",
    "         [43, 44, 45, 46, 47, 48, 49]]\n",
    "\n",
    "filter_kernel = [[-1, 1, -1],\n",
    "                 [-2, 3, 1],\n",
    "                 [2, -6, 0]]"
   ]
  },
  {
   "cell_type": "code",
   "execution_count": 4,
   "metadata": {},
   "outputs": [
    {
     "name": "stdout",
     "output_type": "stream",
     "text": [
      "[[  -2   -8   -7   -6   -5   -4   28]\n",
      " [   3   -7  -10  -13  -16  -19   14]\n",
      " [ -18  -28  -31  -34  -37  -40    0]\n",
      " [ -39  -49  -52  -55  -58  -61  -14]\n",
      " [ -60  -70  -73  -76  -79  -82  -28]\n",
      " [ -81  -91  -94  -97 -100 -103  -42]\n",
      " [-101  -61  -63  -65  -67  -69  -57]]\n"
     ]
    }
   ],
   "source": [
    "res1 = scipy.signal.convolve2d(image, filter_kernel, mode='same', boundary='fill', fillvalue=0)\n",
    "print(res1)"
   ]
  },
  {
   "cell_type": "code",
   "execution_count": 5,
   "metadata": {},
   "outputs": [
    {
     "name": "stdout",
     "output_type": "stream",
     "text": [
      "[[ -43  -31  -33  -35  -37  -39  -49]\n",
      " [ -58  -47  -50  -53  -56  -59  -69]\n",
      " [ -72  -68  -71  -74  -77  -80  -90]\n",
      " [ -86  -89  -92  -95  -98 -101 -111]\n",
      " [-100 -110 -113 -116 -119 -122 -132]\n",
      " [-114 -131 -134 -137 -140 -143 -153]\n",
      " [ 172   54   55   56   57   58   52]]\n"
     ]
    }
   ],
   "source": [
    "# This SciPy's result corresponds with other deep-learning frameworks' calculated value.\n",
    "# Because the SciPy library has stricter calculation methods than other deep-learning frameworks.\n",
    "res2 = scipy.signal.correlate2d(image, filter_kernel, mode=\"same\", boundary=\"fill\", fillvalue=0)\n",
    "print(res2)"
   ]
  },
  {
   "cell_type": "markdown",
   "metadata": {},
   "source": [
    "### Convolutional layer"
   ]
  },
  {
   "cell_type": "code",
   "execution_count": 6,
   "metadata": {},
   "outputs": [],
   "source": [
    "def im2col(input_data, filter_h, filter_w, stride=1, pad=0):\n",
    "    \"\"\"다수의 이미지를 입력받아 2차원 배열로 변환한다(평탄화).\n",
    "    \n",
    "    Parameters\n",
    "    ----------\n",
    "    input_data : 4차원 배열 형태의 입력 데이터(이미지 수, 채널 수, 높이, 너비)\n",
    "    filter_h : 필터의 높이\n",
    "    filter_w : 필터의 너비\n",
    "    stride : 스트라이드\n",
    "    pad : 패딩\n",
    "    \n",
    "    Returns\n",
    "    -------\n",
    "    col : 2차원 배열\n",
    "    \"\"\"\n",
    "    N, C, H, W = input_data.shape\n",
    "    out_h = (H + 2*pad - filter_h)//stride + 1\n",
    "    out_w = (W + 2*pad - filter_w)//stride + 1\n",
    "\n",
    "    img = np.pad(input_data, [(0,0), (0,0), (pad, pad), (pad, pad)], 'constant')\n",
    "    col = np.zeros((N, C, filter_h, filter_w, out_h, out_w))\n",
    "\n",
    "    for y in range(filter_h):\n",
    "        y_max = y + stride*out_h\n",
    "        for x in range(filter_w):\n",
    "            x_max = x + stride*out_w\n",
    "            col[:, :, y, x, :, :] = img[:, :, y:y_max:stride, x:x_max:stride]\n",
    "\n",
    "    col = col.transpose(0, 4, 5, 1, 2, 3).reshape(N*out_h*out_w, -1)\n",
    "    return col"
   ]
  },
  {
   "cell_type": "code",
   "execution_count": 7,
   "metadata": {},
   "outputs": [
    {
     "name": "stdout",
     "output_type": "stream",
     "text": [
      "(9, 75)\n"
     ]
    }
   ],
   "source": [
    "x1 = np.random.rand(1, 3, 7, 7)\n",
    "col1 = im2col(x1, 5, 5, stride=1, pad=0)\n",
    "print(col1.shape) # (1*3*3, 5*5*3)"
   ]
  },
  {
   "cell_type": "code",
   "execution_count": 8,
   "metadata": {},
   "outputs": [
    {
     "name": "stdout",
     "output_type": "stream",
     "text": [
      "(90, 75)\n"
     ]
    }
   ],
   "source": [
    "x2 = np.random.rand(10, 3, 7, 7)\n",
    "col2 = im2col(x2, 5, 5, stride=1, pad=0)\n",
    "print(col2.shape) # (10*3*3, 5*5*3)"
   ]
  },
  {
   "cell_type": "code",
   "execution_count": 9,
   "metadata": {},
   "outputs": [],
   "source": [
    "class Convolution:\n",
    "    def __init__(self, W: npt.NDArray, b: npt.NDArray, stride: int=1, pad: int=0):\n",
    "        self.W: npt.NDArray = W\n",
    "        self.b: npt.NDArray = b\n",
    "        self.stride: int = stride\n",
    "        self.pad: int = pad\n",
    "\n",
    "    def forward(self, x: npt.NDArray) -> npt.NDArray:\n",
    "        FN, C, FH, FW = self.W.shape\n",
    "        N, C, H, W = x.shape\n",
    "        out_h = int(1 + (H + 2*self.pad - FH) / self.stride)\n",
    "        out_w = int(1 + (W + 2*self.pad - FW) / self.stride)\n",
    "\n",
    "        col = im2col(x, FH, FW, self.stride, self.pad)\n",
    "        col_W = self.W.reshape(FN, -1).T\n",
    "        out = np.dot(col, col_W) + self.b\n",
    "\n",
    "        out = out.reshape(N, out_h, out_w, -1).transpose(0, 3, 1, 2)\n",
    "\n",
    "        return out"
   ]
  }
 ],
 "metadata": {
  "kernelspec": {
   "display_name": "base",
   "language": "python",
   "name": "python3"
  },
  "language_info": {
   "codemirror_mode": {
    "name": "ipython",
    "version": 3
   },
   "file_extension": ".py",
   "mimetype": "text/x-python",
   "name": "python",
   "nbconvert_exporter": "python",
   "pygments_lexer": "ipython3",
   "version": "3.11.7"
  }
 },
 "nbformat": 4,
 "nbformat_minor": 2
}
